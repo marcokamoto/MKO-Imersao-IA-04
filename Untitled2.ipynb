{
  "nbformat": 4,
  "nbformat_minor": 0,
  "metadata": {
    "colab": {
      "provenance": [],
      "authorship_tag": "ABX9TyONrZ+jW/oT3r/gRXxFu72L",
      "include_colab_link": true
    },
    "kernelspec": {
      "name": "python3",
      "display_name": "Python 3"
    },
    "language_info": {
      "name": "python"
    }
  },
  "cells": [
    {
      "cell_type": "markdown",
      "metadata": {
        "id": "view-in-github",
        "colab_type": "text"
      },
      "source": [
        "<a href=\"https://colab.research.google.com/github/marcokamoto/MKO-Imersao-IA-04/blob/main/Untitled2.ipynb\" target=\"_parent\"><img src=\"https://colab.research.google.com/assets/colab-badge.svg\" alt=\"Open In Colab\"/></a>"
      ]
    },
    {
      "cell_type": "markdown",
      "source": [
        "Instalando o SDK do Google"
      ],
      "metadata": {
        "id": "0MgEDV6TYqde"
      }
    },
    {
      "cell_type": "code",
      "execution_count": 3,
      "metadata": {
        "id": "CVkUalTrYbDu"
      },
      "outputs": [],
      "source": [
        "!pip install -q -U google-generativeai"
      ]
    },
    {
      "cell_type": "code",
      "source": [
        "import google.generativeai as genai\n",
        "from google.colab import userdata\n",
        "api_key = userdata.get('SECRET_KEY')\n",
        "genai.configure(api_key=api_key)\n"
      ],
      "metadata": {
        "id": "7vb7lTlKY0A5"
      },
      "execution_count": 4,
      "outputs": []
    },
    {
      "cell_type": "markdown",
      "source": [
        "Listar os modelos disponiveis"
      ],
      "metadata": {
        "id": "1gdWOfvOZJGU"
      }
    },
    {
      "cell_type": "code",
      "source": [
        "for m in genai.list_models():\n",
        "  if 'generateContent' in m.supported_generation_methods:\n",
        "    print(m.name)"
      ],
      "metadata": {
        "colab": {
          "base_uri": "https://localhost:8080/",
          "height": 139
        },
        "id": "Y-sg_G7SZq9T",
        "outputId": "b3a22e20-3527-4a77-df75-c0e574086943"
      },
      "execution_count": 5,
      "outputs": [
        {
          "output_type": "stream",
          "name": "stdout",
          "text": [
            "models/gemini-1.0-pro\n",
            "models/gemini-1.0-pro-001\n",
            "models/gemini-1.0-pro-latest\n",
            "models/gemini-1.0-pro-vision-latest\n",
            "models/gemini-1.5-pro-latest\n",
            "models/gemini-pro\n",
            "models/gemini-pro-vision\n"
          ]
        }
      ]
    },
    {
      "cell_type": "code",
      "source": [
        " generation_config = {\n",
        "     \"candidate_count\" : 1,\n",
        "     \"temperature\" : 0.5,\n",
        " }"
      ],
      "metadata": {
        "id": "NrQ8gO2Vafrq"
      },
      "execution_count": 6,
      "outputs": []
    },
    {
      "cell_type": "code",
      "source": [
        " safety_settings = {\n",
        "     \"HARASSMENT\":'block_none',\n",
        "     \"HATE\" : 'block_none',\n",
        "     \"SEXUAL\" : 'block_none',\n",
        "     \"DANGEROUS\" : 'block_none'\n",
        "     }"
      ],
      "metadata": {
        "id": "obi2LzGsb7cZ"
      },
      "execution_count": 7,
      "outputs": []
    },
    {
      "cell_type": "markdown",
      "source": [
        "Inicialiando o modelo"
      ],
      "metadata": {
        "id": "8f2gZjGqdQ5j"
      }
    },
    {
      "cell_type": "code",
      "source": [
        "model = genai.GenerativeModel(model_name=\"gemini-1.0-pro\",\n",
        "                              generation_config=generation_config,\n",
        "                              safety_settings=safety_settings)"
      ],
      "metadata": {
        "id": "f4-Jd2CidWUK"
      },
      "execution_count": 8,
      "outputs": []
    },
    {
      "cell_type": "code",
      "source": [
        "response = model.generate_content(\"Vamos aprender conteudo sobre IA. Me dê sugestões.\")\n",
        "print(response.text)"
      ],
      "metadata": {
        "colab": {
          "base_uri": "https://localhost:8080/",
          "height": 642
        },
        "id": "4YS0FBzyew1D",
        "outputId": "14f6626b-f426-4fee-b595-90f0c867d5db"
      },
      "execution_count": 11,
      "outputs": [
        {
          "output_type": "stream",
          "name": "stdout",
          "text": [
            "**Introdução à IA**\n",
            "\n",
            "* O que é IA?\n",
            "* Tipos de IA: aprendizado de máquina, aprendizado profundo, processamento de linguagem natural\n",
            "* Aplicações da IA em vários setores\n",
            "\n",
            "**Aprendizado de Máquina**\n",
            "\n",
            "* Conceitos básicos: supervisão, não supervisão, reforço\n",
            "* Algoritmos de aprendizado de máquina: regressão, classificação, agrupamento\n",
            "* Avaliação de modelos de aprendizado de máquina\n",
            "\n",
            "**Aprendizado Profundo**\n",
            "\n",
            "* Redes neurais: arquitetura, treinamento e otimização\n",
            "* Tipos de redes neurais: redes convolucionais, redes recorrentes\n",
            "* Aplicações do aprendizado profundo: reconhecimento de imagem, processamento de linguagem natural\n",
            "\n",
            "**Processamento de Linguagem Natural**\n",
            "\n",
            "* Conceitos básicos: tokenização, análise sintática, análise semântica\n",
            "* Técnicas de processamento de linguagem natural: modelagem de tópicos, análise de sentimento\n",
            "* Aplicações do processamento de linguagem natural: tradução automática, chatbots\n",
            "\n",
            "**Ética e Implicações Sociais da IA**\n",
            "\n",
            "* Viés e discriminação na IA\n",
            "* Implicações sociais da IA: automação de empregos, privacidade\n",
            "* Diretrizes éticas para o desenvolvimento e uso de IA\n",
            "\n",
            "**Recursos de Aprendizagem**\n",
            "\n",
            "* Cursos online: Coursera, edX, Udacity\n",
            "* Livros: \"Inteligência Artificial: Uma Abordagem Moderna\" por Stuart Russell e Peter Norvig, \"Aprendizado de Máquina\" por Tom Mitchell\n",
            "* Comunidades online: Reddit (r/machinelearning, r/deeplearning), Stack Overflow\n",
            "* Workshops e conferências\n"
          ]
        }
      ]
    },
    {
      "cell_type": "code",
      "source": [
        "chat = model.start_chat(history=[])"
      ],
      "metadata": {
        "id": "CyyKRDY2fZ1f"
      },
      "execution_count": 12,
      "outputs": []
    },
    {
      "cell_type": "code",
      "source": [
        "prompt = input(\"Esperando digitar: \")\n",
        "\n",
        "while prompt != \"fim\":\n",
        "  response = chat.send_message(prompt)\n",
        "  print(\"Resposta é: \", response.text, \"\\n\")\n",
        "  prompt = input(\"Esperando digitar: \")"
      ],
      "metadata": {
        "colab": {
          "base_uri": "https://localhost:8080/",
          "height": 627
        },
        "id": "6Jj8zOHVfxFZ",
        "outputId": "7f2e3d11-4b9f-497a-8774-7f43e1b1927f"
      },
      "execution_count": 16,
      "outputs": [
        {
          "name": "stdout",
          "output_type": "stream",
          "text": [
            "Esperando digitar: qual a capital do japão\n",
            "Resposta é:  Tóquio \n",
            "\n",
            "Esperando digitar: qual a capital da Irlanda\n",
            "Resposta é:  Dublin \n",
            "\n",
            "Esperando digitar: qual a capital da Itália\n",
            "Resposta é:  Roma \n",
            "\n",
            "Esperando digitar: qual a comida típica\n",
            "Resposta é:  Esta pergunta é muito ampla e depende da região geográfica específica. Existem muitos tipos diferentes de comida típica em todo o mundo. Você poderia especificar uma região ou país para que eu possa fornecer uma resposta mais precisa? \n",
            "\n",
            "Esperando digitar: itália\n",
            "Resposta é:  **Pratos Típicos Italianos:**\n",
            "\n",
            "* **Pizza:** Massa fina coberta com molho de tomate, queijo mussarela e vários ingredientes, como presunto, cogumelos ou vegetais.\n",
            "* **Pasta:** Massa cozida servida com uma variedade de molhos, como marinara, pesto, bolonhesa ou carbonara.\n",
            "* **Risoto:** Arroz cozido em caldo com queijo, legumes e outros ingredientes.\n",
            "* **Lasagna:** Camadas de massa, molho de carne, queijo e molho bechamel.\n",
            "* **Osso Buco:** Pernil de vitela assado com legumes em um caldo rico.\n",
            "* **Saltimbocca alla Romana:** Escalopes de vitela envoltos em presunto e sálvia, refogados em manteiga e vinho branco.\n",
            "* **Gnocchi:** Bolinhos de massa feitos de batata, farinha e ovo.\n",
            "* **Polenta:** Mingau de milho servido com vários molhos ou acompanhamentos.\n",
            "* **Tiramisu:** Sobremesa em camadas feita com biscoitos embebidos em café, creme de mascarpone e cacau em pó.\n",
            "* **Gelato:** Sorvete italiano feito com leite, creme e açúcar, geralmente com sabores de frutas ou nozes. \n",
            "\n",
            "Esperando digitar: qual a população desse país?\n",
            "Resposta é:  **População da Itália:**\n",
            "\n",
            "59.032.413 (estimativa de julho de 2023)\n",
            "\n",
            "Fonte: Banco Mundial \n",
            "\n",
            "Esperando digitar: fim\n"
          ]
        }
      ]
    },
    {
      "cell_type": "code",
      "source": [
        "#Melhorando a visualização\n",
        "import textwrap\n",
        "from IPython.display import display\n",
        "from IPython.display import Markdown\n",
        "\n",
        "def to_markdown(text):\n",
        "  text = text.replace('•', '  *')\n",
        "  return Markdown(textwrap.indent(text, '> ', predicate=lambda _: True))\n",
        "\n",
        "#Imprimindo o historico\n",
        "for message in chat.history:\n",
        "  display(to_markdown(f'**{message.role}**: {message.parts[0].text}'))\n",
        "  print(\"--------------------------------------\")\n",
        ""
      ],
      "metadata": {
        "colab": {
          "base_uri": "https://localhost:8080/",
          "height": 1000
        },
        "id": "oba7eotBleED",
        "outputId": "3971ad3d-5c9d-4eb7-fac9-08d89012fbba"
      },
      "execution_count": 17,
      "outputs": [
        {
          "output_type": "display_data",
          "data": {
            "text/plain": [
              "<IPython.core.display.Markdown object>"
            ],
            "text/markdown": "> **user**: qual a capital do japão"
          },
          "metadata": {}
        },
        {
          "output_type": "stream",
          "name": "stdout",
          "text": [
            "--------------------------------------\n"
          ]
        },
        {
          "output_type": "display_data",
          "data": {
            "text/plain": [
              "<IPython.core.display.Markdown object>"
            ],
            "text/markdown": "> **model**: Tóquio"
          },
          "metadata": {}
        },
        {
          "output_type": "stream",
          "name": "stdout",
          "text": [
            "--------------------------------------\n"
          ]
        },
        {
          "output_type": "display_data",
          "data": {
            "text/plain": [
              "<IPython.core.display.Markdown object>"
            ],
            "text/markdown": "> **user**: qual a capital da Irlanda"
          },
          "metadata": {}
        },
        {
          "output_type": "stream",
          "name": "stdout",
          "text": [
            "--------------------------------------\n"
          ]
        },
        {
          "output_type": "display_data",
          "data": {
            "text/plain": [
              "<IPython.core.display.Markdown object>"
            ],
            "text/markdown": "> **model**: Dublin"
          },
          "metadata": {}
        },
        {
          "output_type": "stream",
          "name": "stdout",
          "text": [
            "--------------------------------------\n"
          ]
        },
        {
          "output_type": "display_data",
          "data": {
            "text/plain": [
              "<IPython.core.display.Markdown object>"
            ],
            "text/markdown": "> **user**: qual a capital da Itália"
          },
          "metadata": {}
        },
        {
          "output_type": "stream",
          "name": "stdout",
          "text": [
            "--------------------------------------\n"
          ]
        },
        {
          "output_type": "display_data",
          "data": {
            "text/plain": [
              "<IPython.core.display.Markdown object>"
            ],
            "text/markdown": "> **model**: Roma"
          },
          "metadata": {}
        },
        {
          "output_type": "stream",
          "name": "stdout",
          "text": [
            "--------------------------------------\n"
          ]
        },
        {
          "output_type": "display_data",
          "data": {
            "text/plain": [
              "<IPython.core.display.Markdown object>"
            ],
            "text/markdown": "> **user**: qual a comida típica"
          },
          "metadata": {}
        },
        {
          "output_type": "stream",
          "name": "stdout",
          "text": [
            "--------------------------------------\n"
          ]
        },
        {
          "output_type": "display_data",
          "data": {
            "text/plain": [
              "<IPython.core.display.Markdown object>"
            ],
            "text/markdown": "> **model**: Esta pergunta é muito ampla e depende da região geográfica específica. Existem muitos tipos diferentes de comida típica em todo o mundo. Você poderia especificar uma região ou país para que eu possa fornecer uma resposta mais precisa?"
          },
          "metadata": {}
        },
        {
          "output_type": "stream",
          "name": "stdout",
          "text": [
            "--------------------------------------\n"
          ]
        },
        {
          "output_type": "display_data",
          "data": {
            "text/plain": [
              "<IPython.core.display.Markdown object>"
            ],
            "text/markdown": "> **user**: itália"
          },
          "metadata": {}
        },
        {
          "output_type": "stream",
          "name": "stdout",
          "text": [
            "--------------------------------------\n"
          ]
        },
        {
          "output_type": "display_data",
          "data": {
            "text/plain": [
              "<IPython.core.display.Markdown object>"
            ],
            "text/markdown": "> **model**: **Pratos Típicos Italianos:**\n> \n> * **Pizza:** Massa fina coberta com molho de tomate, queijo mussarela e vários ingredientes, como presunto, cogumelos ou vegetais.\n> * **Pasta:** Massa cozida servida com uma variedade de molhos, como marinara, pesto, bolonhesa ou carbonara.\n> * **Risoto:** Arroz cozido em caldo com queijo, legumes e outros ingredientes.\n> * **Lasagna:** Camadas de massa, molho de carne, queijo e molho bechamel.\n> * **Osso Buco:** Pernil de vitela assado com legumes em um caldo rico.\n> * **Saltimbocca alla Romana:** Escalopes de vitela envoltos em presunto e sálvia, refogados em manteiga e vinho branco.\n> * **Gnocchi:** Bolinhos de massa feitos de batata, farinha e ovo.\n> * **Polenta:** Mingau de milho servido com vários molhos ou acompanhamentos.\n> * **Tiramisu:** Sobremesa em camadas feita com biscoitos embebidos em café, creme de mascarpone e cacau em pó.\n> * **Gelato:** Sorvete italiano feito com leite, creme e açúcar, geralmente com sabores de frutas ou nozes."
          },
          "metadata": {}
        },
        {
          "output_type": "stream",
          "name": "stdout",
          "text": [
            "--------------------------------------\n"
          ]
        },
        {
          "output_type": "display_data",
          "data": {
            "text/plain": [
              "<IPython.core.display.Markdown object>"
            ],
            "text/markdown": "> **user**: qual a população desse país?"
          },
          "metadata": {}
        },
        {
          "output_type": "stream",
          "name": "stdout",
          "text": [
            "--------------------------------------\n"
          ]
        },
        {
          "output_type": "display_data",
          "data": {
            "text/plain": [
              "<IPython.core.display.Markdown object>"
            ],
            "text/markdown": "> **model**: **População da Itália:**\n> \n> 59.032.413 (estimativa de julho de 2023)\n> \n> Fonte: Banco Mundial"
          },
          "metadata": {}
        },
        {
          "output_type": "stream",
          "name": "stdout",
          "text": [
            "--------------------------------------\n"
          ]
        }
      ]
    },
    {
      "cell_type": "markdown",
      "source": [],
      "metadata": {
        "id": "tBgQPfvXYoHS"
      }
    }
  ]
}