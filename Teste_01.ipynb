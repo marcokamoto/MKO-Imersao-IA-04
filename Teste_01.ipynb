{
  "nbformat": 4,
  "nbformat_minor": 0,
  "metadata": {
    "colab": {
      "provenance": [],
      "authorship_tag": "ABX9TyMn9CrZJA6L5b29ERPxKtPb",
      "include_colab_link": true
    },
    "kernelspec": {
      "name": "python3",
      "display_name": "Python 3"
    },
    "language_info": {
      "name": "python"
    }
  },
  "cells": [
    {
      "cell_type": "markdown",
      "metadata": {
        "id": "view-in-github",
        "colab_type": "text"
      },
      "source": [
        "<a href=\"https://colab.research.google.com/github/marcokamoto/MKO-Imersao-IA-04/blob/main/Teste_01.ipynb\" target=\"_parent\"><img src=\"https://colab.research.google.com/assets/colab-badge.svg\" alt=\"Open In Colab\"/></a>"
      ]
    },
    {
      "cell_type": "markdown",
      "source": [
        "Instalando o SDK do Google"
      ],
      "metadata": {
        "id": "NfKfHxlb5WrH"
      }
    },
    {
      "cell_type": "code",
      "execution_count": 1,
      "metadata": {
        "id": "qEbo8s4b5NbL"
      },
      "outputs": [],
      "source": [
        "!pip install -q -U google-generativeai"
      ]
    },
    {
      "cell_type": "code",
      "source": [
        "import google.generativeai as genai\n",
        "from google.colab import userdata\n",
        "api_key = userdata.get('SECRET_KEY')\n",
        "genai.configure(api_key=api_key)\n"
      ],
      "metadata": {
        "id": "SL0PFHsv5uRf"
      },
      "execution_count": 3,
      "outputs": []
    },
    {
      "cell_type": "markdown",
      "source": [
        "Listar os modelos disponiveis"
      ],
      "metadata": {
        "id": "w73Vovre59uT"
      }
    },
    {
      "cell_type": "code",
      "source": [
        "for m in genai.list_models():\n",
        "  if 'generateContent' in m.supported_generation_methods:\n",
        "    print(m.name)"
      ],
      "metadata": {
        "colab": {
          "base_uri": "https://localhost:8080/",
          "height": 139
        },
        "id": "2cl_n5Lz5-9N",
        "outputId": "f2d7b6b2-e784-451e-9481-2230ddbc4627"
      },
      "execution_count": 4,
      "outputs": [
        {
          "output_type": "stream",
          "name": "stdout",
          "text": [
            "models/gemini-1.0-pro\n",
            "models/gemini-1.0-pro-001\n",
            "models/gemini-1.0-pro-latest\n",
            "models/gemini-1.0-pro-vision-latest\n",
            "models/gemini-1.5-pro-latest\n",
            "models/gemini-pro\n",
            "models/gemini-pro-vision\n"
          ]
        }
      ]
    },
    {
      "cell_type": "code",
      "source": [
        " generation_config = {\n",
        "     \"candidate_count\" : 1,\n",
        "     \"temperature\" : 0.5,\n",
        " }"
      ],
      "metadata": {
        "id": "IrBSCqaE6JZX"
      },
      "execution_count": 5,
      "outputs": []
    },
    {
      "cell_type": "code",
      "source": [
        " safety_settings = {\n",
        "     \"HARASSMENT\":'block_none',\n",
        "     \"HATE\" : 'block_none',\n",
        "     \"SEXUAL\" : 'block_none',\n",
        "     \"DANGEROUS\" : 'block_none'\n",
        "     }"
      ],
      "metadata": {
        "id": "U_Ergx916P4l"
      },
      "execution_count": 6,
      "outputs": []
    },
    {
      "cell_type": "markdown",
      "source": [
        "Inicialiando o modelo"
      ],
      "metadata": {
        "id": "sQGGdz6q6WNY"
      }
    },
    {
      "cell_type": "code",
      "source": [
        "model = genai.GenerativeModel(model_name=\"gemini-1.0-pro\",\n",
        "                              generation_config=generation_config,\n",
        "                              safety_settings=safety_settings)"
      ],
      "metadata": {
        "id": "jsTtPYis6XOD"
      },
      "execution_count": 7,
      "outputs": []
    },
    {
      "cell_type": "code",
      "source": [
        "response = model.generate_content(\"Vamos aprender conteudo sobre IA. Me dê sugestões.\")\n",
        "print(response.text)"
      ],
      "metadata": {
        "colab": {
          "base_uri": "https://localhost:8080/",
          "height": 659
        },
        "id": "epKHd9LX6gY2",
        "outputId": "3c6fc519-db3a-4a77-9a5a-cc453949f1bc"
      },
      "execution_count": 8,
      "outputs": [
        {
          "output_type": "stream",
          "name": "stdout",
          "text": [
            "**Fundamentos da IA**\n",
            "\n",
            "* O que é Inteligência Artificial (IA)?\n",
            "* Tipos de IA: IA fraca, IA forte, IA geral\n",
            "* Aprendizado de máquina: supervisão, não supervisão, reforço\n",
            "* Aprendizado profundo: redes neurais, convoluções, recorrências\n",
            "* Processamento de linguagem natural (PNL)\n",
            "\n",
            "**Aplicações da IA**\n",
            "\n",
            "* Automação de tarefas: chatbots, reconhecimento de imagem\n",
            "* Análise preditiva: previsão de vendas, detecção de fraudes\n",
            "* Diagnóstico médico: análise de imagens, reconhecimento de padrões\n",
            "* Carros autônomos: navegação, reconhecimento de objetos\n",
            "* Robótica: sistemas autônomos, manipulação de objetos\n",
            "\n",
            "**Ética e Implicações Sociais da IA**\n",
            "\n",
            "* Viés e discriminação em algoritmos de IA\n",
            "* Perda de empregos devido à automação\n",
            "* Privacidade e segurança de dados\n",
            "* Implicações para a sociedade e a economia\n",
            "\n",
            "**Tendências e Avanços em IA**\n",
            "\n",
            "* IA generativa: criação de conteúdo original (texto, imagens, música)\n",
            "* IA quântica: computação mais rápida e eficiente\n",
            "* IA de borda: processamento de dados em dispositivos locais\n",
            "* IA federada: colaboração entre dispositivos sem compartilhar dados\n",
            "* Metaverso: mundos virtuais aprimorados por IA\n",
            "\n",
            "**Recursos de Aprendizagem**\n",
            "\n",
            "* Cursos online: Coursera, edX, Udemy\n",
            "* Livros: \"Inteligência Artificial: Uma Abordagem Moderna\" (Stuart Russell e Peter Norvig), \"Aprendizado de Máquina\" (Tom Mitchell)\n",
            "* Conferências e workshops: NIPS, ICML, NeurIPS\n",
            "* Comunidades online: Reddit (r/MachineLearning), Stack Overflow (IA)\n"
          ]
        }
      ]
    },
    {
      "cell_type": "markdown",
      "source": [
        "Criando um Chat"
      ],
      "metadata": {
        "id": "03FZbD-g68ZR"
      }
    },
    {
      "cell_type": "code",
      "source": [
        "chat = model.start_chat(history=[])"
      ],
      "metadata": {
        "id": "2R2_nU5U6ws9"
      },
      "execution_count": 9,
      "outputs": []
    },
    {
      "cell_type": "code",
      "source": [
        "prompt = input(\"Esperando digitar: \")\n",
        "\n",
        "while prompt != \"fim\":\n",
        "  response = chat.send_message(prompt)\n",
        "  print(\"Resposta é: \", response.text, \"\\n\")\n",
        "  prompt = input(\"Esperando digitar: \")"
      ],
      "metadata": {
        "colab": {
          "base_uri": "https://localhost:8080/",
          "height": 347
        },
        "id": "YkOot6Mb7HLi",
        "outputId": "1c17e806-f32e-4328-bca2-81ba76eac837"
      },
      "execution_count": 11,
      "outputs": [
        {
          "name": "stdout",
          "output_type": "stream",
          "text": [
            "Esperando digitar: Qual o maior país do continente europeu?\n",
            "Resposta é:  Rússia \n",
            "\n",
            "Esperando digitar: Qual é a sua capital?\n",
            "Resposta é:  Moscou \n",
            "\n",
            "Esperando digitar: Qual é o prato típico?\n",
            "Resposta é:  Borscht \n",
            "\n",
            "Esperando digitar: Quais são os ingredientes desse prato?\n",
            "Resposta é:  Beterraba, repolho, cenoura, batata, cebola, alho, tomate, carne (geralmente carne bovina ou de porco), caldo de carne e especiarias (como endro, salsa e folhas de louro) \n",
            "\n",
            "Esperando digitar: Qual é a moeda desse país?\n",
            "Resposta é:  Rublo russo (RUB) \n",
            "\n",
            "Esperando digitar: Qual a população?\n",
            "Resposta é:  145,9 milhões (estimativa de 2023) \n",
            "\n",
            "Esperando digitar: fim\n"
          ]
        }
      ]
    },
    {
      "cell_type": "markdown",
      "source": [
        "Melhorando a visualização"
      ],
      "metadata": {
        "id": "2q1yMz3I95mD"
      }
    },
    {
      "cell_type": "code",
      "source": [
        "#Melhorando a visualização\n",
        "import textwrap\n",
        "from IPython.display import display\n",
        "from IPython.display import Markdown\n",
        "\n",
        "def to_markdown(text):\n",
        "  text = text.replace('•', '  *')\n",
        "  return Markdown(textwrap.indent(text, '> ', predicate=lambda _: True))\n",
        "\n",
        "#Imprimindo o historico\n",
        "for message in chat.history:\n",
        "  display(to_markdown(f'**{message.role}**: {message.parts[0].text}'))\n",
        "  print(\"--------------------------------------\")"
      ],
      "metadata": {
        "colab": {
          "base_uri": "https://localhost:8080/",
          "height": 1000
        },
        "id": "AlC0s9SY9_AO",
        "outputId": "810d09d8-4017-4fd7-9076-177c64db3373"
      },
      "execution_count": 12,
      "outputs": [
        {
          "output_type": "display_data",
          "data": {
            "text/plain": [
              "<IPython.core.display.Markdown object>"
            ],
            "text/markdown": "> **user**: Qual o país Europeu mais rico?"
          },
          "metadata": {}
        },
        {
          "output_type": "stream",
          "name": "stdout",
          "text": [
            "--------------------------------------\n"
          ]
        },
        {
          "output_type": "display_data",
          "data": {
            "text/plain": [
              "<IPython.core.display.Markdown object>"
            ],
            "text/markdown": "> **model**: Luxemburgo"
          },
          "metadata": {}
        },
        {
          "output_type": "stream",
          "name": "stdout",
          "text": [
            "--------------------------------------\n"
          ]
        },
        {
          "output_type": "display_data",
          "data": {
            "text/plain": [
              "<IPython.core.display.Markdown object>"
            ],
            "text/markdown": "> **user**: É capital de qual país?"
          },
          "metadata": {}
        },
        {
          "output_type": "stream",
          "name": "stdout",
          "text": [
            "--------------------------------------\n"
          ]
        },
        {
          "output_type": "display_data",
          "data": {
            "text/plain": [
              "<IPython.core.display.Markdown object>"
            ],
            "text/markdown": "> **model**: Luxemburgo"
          },
          "metadata": {}
        },
        {
          "output_type": "stream",
          "name": "stdout",
          "text": [
            "--------------------------------------\n"
          ]
        },
        {
          "output_type": "display_data",
          "data": {
            "text/plain": [
              "<IPython.core.display.Markdown object>"
            ],
            "text/markdown": "> **user**: Qual o maior país do continente europeu?"
          },
          "metadata": {}
        },
        {
          "output_type": "stream",
          "name": "stdout",
          "text": [
            "--------------------------------------\n"
          ]
        },
        {
          "output_type": "display_data",
          "data": {
            "text/plain": [
              "<IPython.core.display.Markdown object>"
            ],
            "text/markdown": "> **model**: Rússia"
          },
          "metadata": {}
        },
        {
          "output_type": "stream",
          "name": "stdout",
          "text": [
            "--------------------------------------\n"
          ]
        },
        {
          "output_type": "display_data",
          "data": {
            "text/plain": [
              "<IPython.core.display.Markdown object>"
            ],
            "text/markdown": "> **user**: Qual é a sua capital?"
          },
          "metadata": {}
        },
        {
          "output_type": "stream",
          "name": "stdout",
          "text": [
            "--------------------------------------\n"
          ]
        },
        {
          "output_type": "display_data",
          "data": {
            "text/plain": [
              "<IPython.core.display.Markdown object>"
            ],
            "text/markdown": "> **model**: Moscou"
          },
          "metadata": {}
        },
        {
          "output_type": "stream",
          "name": "stdout",
          "text": [
            "--------------------------------------\n"
          ]
        },
        {
          "output_type": "display_data",
          "data": {
            "text/plain": [
              "<IPython.core.display.Markdown object>"
            ],
            "text/markdown": "> **user**: Qual é o prato típico?"
          },
          "metadata": {}
        },
        {
          "output_type": "stream",
          "name": "stdout",
          "text": [
            "--------------------------------------\n"
          ]
        },
        {
          "output_type": "display_data",
          "data": {
            "text/plain": [
              "<IPython.core.display.Markdown object>"
            ],
            "text/markdown": "> **model**: Borscht"
          },
          "metadata": {}
        },
        {
          "output_type": "stream",
          "name": "stdout",
          "text": [
            "--------------------------------------\n"
          ]
        },
        {
          "output_type": "display_data",
          "data": {
            "text/plain": [
              "<IPython.core.display.Markdown object>"
            ],
            "text/markdown": "> **user**: Quais são os ingredientes desse prato?"
          },
          "metadata": {}
        },
        {
          "output_type": "stream",
          "name": "stdout",
          "text": [
            "--------------------------------------\n"
          ]
        },
        {
          "output_type": "display_data",
          "data": {
            "text/plain": [
              "<IPython.core.display.Markdown object>"
            ],
            "text/markdown": "> **model**: Beterraba, repolho, cenoura, batata, cebola, alho, tomate, carne (geralmente carne bovina ou de porco), caldo de carne e especiarias (como endro, salsa e folhas de louro)"
          },
          "metadata": {}
        },
        {
          "output_type": "stream",
          "name": "stdout",
          "text": [
            "--------------------------------------\n"
          ]
        },
        {
          "output_type": "display_data",
          "data": {
            "text/plain": [
              "<IPython.core.display.Markdown object>"
            ],
            "text/markdown": "> **user**: Qual é a moeda desse país?"
          },
          "metadata": {}
        },
        {
          "output_type": "stream",
          "name": "stdout",
          "text": [
            "--------------------------------------\n"
          ]
        },
        {
          "output_type": "display_data",
          "data": {
            "text/plain": [
              "<IPython.core.display.Markdown object>"
            ],
            "text/markdown": "> **model**: Rublo russo (RUB)"
          },
          "metadata": {}
        },
        {
          "output_type": "stream",
          "name": "stdout",
          "text": [
            "--------------------------------------\n"
          ]
        },
        {
          "output_type": "display_data",
          "data": {
            "text/plain": [
              "<IPython.core.display.Markdown object>"
            ],
            "text/markdown": "> **user**: Qual a população?"
          },
          "metadata": {}
        },
        {
          "output_type": "stream",
          "name": "stdout",
          "text": [
            "--------------------------------------\n"
          ]
        },
        {
          "output_type": "display_data",
          "data": {
            "text/plain": [
              "<IPython.core.display.Markdown object>"
            ],
            "text/markdown": "> **model**: 145,9 milhões (estimativa de 2023)"
          },
          "metadata": {}
        },
        {
          "output_type": "stream",
          "name": "stdout",
          "text": [
            "--------------------------------------\n"
          ]
        }
      ]
    }
  ]
}